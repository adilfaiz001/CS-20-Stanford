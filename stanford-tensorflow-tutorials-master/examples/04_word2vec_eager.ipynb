{
 "cells": [
  {
   "cell_type": "code",
   "execution_count": 1,
   "metadata": {},
   "outputs": [],
   "source": [
    "import numpy as np\n",
    "import tensorflow as tf\n",
    "import tensorflow.contrib.eager as tfe\n",
    "\n",
    "import utils\n",
    "import word2vec_utils\n",
    "\n",
    "tfe.enable_eager_execution()"
   ]
  },
  {
   "cell_type": "code",
   "execution_count": 2,
   "metadata": {},
   "outputs": [],
   "source": [
    "# Model hyperparameters\n",
    "VOCAB_SIZE = 50000\n",
    "BATCH_SIZE = 128\n",
    "EMBED_SIZE = 128            # dimension of the word embedding vectors\n",
    "SKIP_WINDOW = 1             # the context window\n",
    "NUM_SAMPLED = 64            # number of negative examples to sample\n",
    "LEARNING_RATE = 1.0\n",
    "NUM_TRAIN_STEPS = 100000\n",
    "VISUAL_FLD = 'visualization'\n",
    "SKIP_STEP = 5000"
   ]
  },
  {
   "cell_type": "code",
   "execution_count": 3,
   "metadata": {},
   "outputs": [],
   "source": [
    "# Parameters for downloading data\n",
    "DOWNLOAD_URL = 'http://mattmahoney.net/dc/text8.zip'\n",
    "EXPECTED_BYTES = 31344016"
   ]
  },
  {
   "cell_type": "code",
   "execution_count": 4,
   "metadata": {},
   "outputs": [],
   "source": [
    "class Word2Vec(object):\n",
    "  def __init__(self, vocab_size, embed_size, num_sampled=NUM_SAMPLED):\n",
    "    self.vocab_size = vocab_size\n",
    "    self.num_sampled = num_sampled\n",
    "    self.embed_matrix = tfe.Variable(tf.random_uniform(\n",
    "                                      [vocab_size, embed_size]))\n",
    "    self.nce_weight = tfe.Variable(tf.truncated_normal(\n",
    "                                    [vocab_size, embed_size],\n",
    "                                    stddev=1.0 / (embed_size ** 0.5)))\n",
    "    self.nce_bias = tfe.Variable(tf.zeros([vocab_size]))\n",
    "\n",
    "  def compute_loss(self, center_words, target_words):\n",
    "    \"\"\"Computes the forward pass of word2vec with the NCE loss.\"\"\" \n",
    "    embed = tf.nn.embedding_lookup(self.embed_matrix, center_words)\n",
    "    loss = tf.reduce_mean(tf.nn.nce_loss(weights=self.nce_weight, \n",
    "                                        biases=self.nce_bias, \n",
    "                                        labels=target_words, \n",
    "                                        inputs=embed, \n",
    "                                        num_sampled=self.num_sampled, \n",
    "                                        num_classes=self.vocab_size))\n",
    "    return loss"
   ]
  },
  {
   "cell_type": "code",
   "execution_count": 5,
   "metadata": {},
   "outputs": [],
   "source": [
    "def gen():\n",
    "  yield from word2vec_utils.batch_gen(DOWNLOAD_URL, EXPECTED_BYTES,\n",
    "                                      VOCAB_SIZE, BATCH_SIZE, SKIP_WINDOW,\n",
    "                                      VISUAL_FLD)"
   ]
  },
  {
   "cell_type": "code",
   "execution_count": 6,
   "metadata": {},
   "outputs": [],
   "source": [
    "def main():\n",
    "  dataset = tf.data.Dataset.from_generator(gen, (tf.int32, tf.int32),\n",
    "                              (tf.TensorShape([BATCH_SIZE]),\n",
    "                              tf.TensorShape([BATCH_SIZE, 1])))\n",
    "  optimizer = tf.train.GradientDescentOptimizer(LEARNING_RATE)\n",
    "    \n",
    "  model = Word2Vec(vocab_size=VOCAB_SIZE, embed_size=EMBED_SIZE)\n",
    "\n",
    "  grad_fn = tfe.implicit_value_and_gradients(model.compute_loss)\n",
    "  total_loss = 0.0  # for average loss in the last SKIP_STEP steps\n",
    "  num_train_steps = 0\n",
    "    \n",
    "  while num_train_steps < NUM_TRAIN_STEPS:\n",
    "    for center_words, target_words in tfe.Iterator(dataset):\n",
    "      if num_train_steps >= NUM_TRAIN_STEPS:\n",
    "        break\n",
    "      loss_batch, grads = grad_fn(center_words, target_words)\n",
    "      total_loss += loss_batch\n",
    "      optimizer.apply_gradients(grads)\n",
    "      if (num_train_steps + 1) % SKIP_STEP == 0:\n",
    "        print('Average loss at step {}: {:5.1f}'.format(\n",
    "                num_train_steps, total_loss / SKIP_STEP))\n",
    "        total_loss = 0.0\n",
    "      num_train_steps += 1"
   ]
  },
  {
   "cell_type": "code",
   "execution_count": 8,
   "metadata": {},
   "outputs": [
    {
     "name": "stdout",
     "output_type": "stream",
     "text": [
      "Downloading http://mattmahoney.net/dc/text8.zip\n",
      "Successfully downloaded data/text8.zip\n",
      "Average loss at step 4999:  65.6\n",
      "Average loss at step 9999:  18.2\n",
      "Average loss at step 14999:   9.6\n",
      "Average loss at step 19999:   6.7\n",
      "Average loss at step 24999:   5.7\n",
      "Average loss at step 29999:   5.2\n",
      "Average loss at step 34999:   5.0\n",
      "Average loss at step 39999:   4.8\n",
      "Average loss at step 44999:   4.8\n",
      "Average loss at step 49999:   4.8\n",
      "Average loss at step 54999:   4.8\n",
      "Average loss at step 59999:   4.7\n",
      "Average loss at step 64999:   4.7\n",
      "Average loss at step 69999:   4.7\n",
      "Average loss at step 74999:   4.6\n",
      "Average loss at step 79999:   4.7\n",
      "Average loss at step 84999:   4.7\n",
      "Average loss at step 89999:   4.7\n",
      "Average loss at step 94999:   4.6\n",
      "Average loss at step 99999:   4.6\n"
     ]
    }
   ],
   "source": [
    "if __name__ == '__main__':\n",
    "    main()"
   ]
  },
  {
   "cell_type": "code",
   "execution_count": null,
   "metadata": {},
   "outputs": [],
   "source": []
  }
 ],
 "metadata": {
  "kernelspec": {
   "display_name": "TensorFlow-GPU",
   "language": "python",
   "name": "tensorflow-gpu"
  },
  "language_info": {
   "codemirror_mode": {
    "name": "ipython",
    "version": 3
   },
   "file_extension": ".py",
   "mimetype": "text/x-python",
   "name": "python",
   "nbconvert_exporter": "python",
   "pygments_lexer": "ipython3",
   "version": "3.5.6"
  }
 },
 "nbformat": 4,
 "nbformat_minor": 2
}
